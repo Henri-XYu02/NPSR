{
 "cells": [
  {
   "cell_type": "markdown",
   "id": "7f33dd7f",
   "metadata": {},
   "source": [
    "# Parse /results/"
   ]
  },
  {
   "cell_type": "code",
   "execution_count": null,
   "id": "aed0f90e",
   "metadata": {},
   "outputs": [],
   "source": [
    "# only works for using NPSR as the algorithm\n",
    "\n",
    "import os\n",
    "import numpy as np\n",
    "import matplotlib.pyplot as plt\n",
    "\n",
    "print('Datasets in /results/ -', os.listdir('results'))\n",
    "\n",
    "res = {}\n",
    "for dset in os.listdir('results'):\n",
    "    res[dset] = {}\n",
    "    for algo in os.listdir('results/' + dset):\n",
    "        assert algo == 'NPSR'\n",
    "        res[dset][algo] = []\n",
    "        print(f'Dataset: {dset}, Algorithm: {algo}')\n",
    "        num_res_files = np.sum(['_result.txt' in file for file in os.listdir(f'results/{dset}/{algo}')])\n",
    "        if num_res_files >= 1:\n",
    "            print(f'  Found {num_res_files} result files.')\n",
    "        else:\n",
    "            print('  Found no result files. Skipping directory.')\n",
    "            continue\n",
    "        \n",
    "        for fname in os.listdir(f'results/{dset}/{algo}'):\n",
    "            if '_result.txt' not in fname:\n",
    "                continue\n",
    "            res_ent = {}\n",
    "            res_ent['datetime'] = fname.replace('_result.txt', '')\n",
    "            with open(f'results/{dset}/{algo}/{fname}', 'r') as file:\n",
    "                lines = file.readlines()\n",
    "                lines = [line.replace('\\n','') for line in lines]\n",
    "            res_ent['dset_config'] = lines[0]\n",
    "            res_ent['model_config'] = lines[1]\n",
    "            res_ent['epoch'] = []\n",
    "\n",
    "            epochs = int(res_ent['model_config'].split('epochs=')[-1].split(',')[0])\n",
    "            lines_per_epoch = (len(lines)-2) // epochs\n",
    "            for epoch in range(epochs):\n",
    "                lines_ep = lines[2 + epoch*lines_per_epoch: 2 + (epoch+1)*lines_per_epoch]\n",
    "                assert lines_ep[0] == f'epoch={epoch}'\n",
    "                # only record F1 and AUC\n",
    "                res_ep = {}\n",
    "                res_ep['M_pt_F1'] = float(lines_ep[1].split('F1:')[-1].split(' ')[0])\n",
    "                res_ep['M_pt_AUC'] = float(lines_ep[1].split('AUC:')[-1].split(' ')[0])\n",
    "                res_ep['M_seq_F1'] = float(lines_ep[2].split('F1:')[-1].split(' ')[0])\n",
    "                res_ep['M_seq_AUC'] = float(lines_ep[2].split('AUC:')[-1].split(' ')[0])\n",
    "                res_ep['d'] = {}\n",
    "                for line in lines_ep[3:]:\n",
    "                    d = int(line.split('d ')[1].split(' ')[0])\n",
    "                    res_ep['d'][d] = {}\n",
    "                    tmp = line.split('Soft ')[1].split('  Hard ')\n",
    "                    tmp = [tmp[0]] + tmp[1].split('  Inf ')\n",
    "                    tmp = [[float(x) for x in t.replace('F1:', '').split('  AUC:')] for t in tmp]\n",
    "                    res_ep['d'][d]['Soft F1'] = tmp[0][0]\n",
    "                    res_ep['d'][d]['Soft AUC'] = tmp[0][1]\n",
    "                    res_ep['d'][d]['Hard F1'] = tmp[1][0]\n",
    "                    res_ep['d'][d]['Hard AUC'] = tmp[1][1]\n",
    "                    res_ep['d'][d]['Inf F1'] = tmp[2][0]\n",
    "                    res_ep['d'][d]['Inf AUC'] = tmp[2][1]\n",
    "                res_ent['epoch'].append(res_ep)\n",
    "\n",
    "            res[dset][algo].append(res_ent)"
   ]
  },
  {
   "cell_type": "code",
   "execution_count": null,
   "id": "51c0da21",
   "metadata": {
    "scrolled": false
   },
   "outputs": [],
   "source": [
    "for dset in res.keys():\n",
    "    for algo in res[dset].keys():\n",
    "        if len(res[dset][algo]) == 1: # only plot dset + algos with only one result file\n",
    "            res_ent = res[dset][algo][0]\n",
    "            print(dset, algo, res_ent['datetime'])\n",
    "            \n",
    "            print(f'  {res_ent[\"dset_config\"]}')\n",
    "            print(f'  {res_ent[\"model_config\"]}')\n",
    "            \n",
    "            plt.figure()\n",
    "            # select which model + metrics to plot\n",
    "            for plt_name in ['M_pt_F1', 'M_pt_AUC', 'M_seq_F1', 'M_seq_AUC']:\n",
    "                if 'AUC' in plt_name:\n",
    "                    continue\n",
    "                model_metric = [ep[plt_name] for ep in res_ent['epoch']]\n",
    "                plt.plot(np.arange(len(res_ent['epoch'])), model_metric, label=plt_name)\n",
    "            plt.legend()\n",
    "            plt.xlabel('epoch')\n",
    "            plt.ylabel('metric value')\n",
    "            plt.title(f'{dset} - {algo} - {res_ent[\"datetime\"]}')\n",
    "            \n",
    "            ds = res_ent['epoch'][0]['d'].keys()\n",
    "            for d in ds:\n",
    "                plt.figure()\n",
    "                # select which [Soft, Hard, Inf] + metrics to plot\n",
    "                for plt_name in ['Soft F1', 'Soft AUC', 'Hard F1', 'Hard AUC', 'Inf F1', 'Inf AUC']:\n",
    "                    if 'AUC' in plt_name:\n",
    "                        continue\n",
    "                    model_metric = [ep['d'][d][plt_name] for ep in res_ent['epoch']]\n",
    "                    plt.plot(np.arange(len(res_ent['epoch'])), model_metric, label=plt_name)\n",
    "                plt.legend()\n",
    "                plt.xlabel('epoch')\n",
    "                plt.ylabel('metric value')\n",
    "                plt.title(f'{dset} - {algo} - {res_ent[\"datetime\"]} - d={d}')"
   ]
  },
  {
   "cell_type": "code",
   "execution_count": null,
   "id": "ef34c0aa",
   "metadata": {},
   "outputs": [],
   "source": [
    "vals"
   ]
  },
  {
   "cell_type": "code",
   "execution_count": null,
   "id": "ee8c9608",
   "metadata": {},
   "outputs": [],
   "source": [
    "# tmp just for MSCRED synthetic dataset\n",
    "eps = res['MSCRED']['NPSR'][0]['epoch']\n",
    "\n",
    "mets = ['M_pt_F1', 'M_pt_AUC', 'M_seq_F1', 'M_seq_AUC']\n",
    "for met in mets:\n",
    "    vals = np.array([ep[met] for ep in eps])\n",
    "    print(met, vals.max())\n",
    "\n",
    "mets = ['Inf AUC', 'Inf F1', 'Hard AUC', 'Hard F1', 'Soft AUC', 'Soft F1']\n",
    "for met in mets:\n",
    "    vals = [[ep['d'][d_val][met] for d_val in ep['d'].keys()] for ep in eps]\n",
    "    vals = np.array(vals).max(axis=0)\n",
    "    print(met, f'{vals.mean():.3f}', f'{vals.std():.3f}')\n",
    "    \n",
    "eps[0]"
   ]
  },
  {
   "cell_type": "code",
   "execution_count": null,
   "id": "6c10253a",
   "metadata": {},
   "outputs": [],
   "source": [
    "import matplotlib\n",
    "matplotlib.rcParams.update({'font.size': 12})"
   ]
  },
  {
   "cell_type": "code",
   "execution_count": null,
   "id": "c00943a8",
   "metadata": {},
   "outputs": [],
   "source": [
    "plt.figure()\n",
    "plt.plot(np.arange(len(res_ent['epoch'])), [ep['M_pt_F1'] for ep in res_ent['epoch']], label='$M_{pt}$')\n",
    "plt.plot(np.arange(len(res_ent['epoch'])), [ep['M_seq_F1'] for ep in res_ent['epoch']], label='$M_{seq}$')\n",
    "    \n",
    "plt.legend(loc=5)\n",
    "plt.xlabel('epoch')\n",
    "plt.ylabel('best F1 score')\n",
    "plt.title(f'{dset} - {algo}')\n",
    "\n",
    "plt.figure()\n",
    "plt.plot(np.arange(len(res_ent['epoch'])), [ep['M_pt_AUC'] for ep in res_ent['epoch']], label='$M_{pt}$')\n",
    "plt.plot(np.arange(len(res_ent['epoch'])), [ep['M_seq_AUC'] for ep in res_ent['epoch']], label='$M_{seq}$')\n",
    "    \n",
    "plt.legend(loc=5)\n",
    "plt.xlabel('epoch')\n",
    "plt.ylabel('AUC')\n",
    "plt.title(f'{dset} - {algo}')"
   ]
  },
  {
   "cell_type": "markdown",
   "id": "2379fe84",
   "metadata": {},
   "source": [
    "### $\\verb|res|$ contains all training results"
   ]
  },
  {
   "cell_type": "code",
   "execution_count": null,
   "id": "55d9c8bb",
   "metadata": {},
   "outputs": [],
   "source": [
    "res"
   ]
  },
  {
   "cell_type": "code",
   "execution_count": null,
   "id": "2a422bac",
   "metadata": {},
   "outputs": [],
   "source": []
  },
  {
   "cell_type": "code",
   "execution_count": null,
   "id": "b90b0649",
   "metadata": {},
   "outputs": [],
   "source": []
  },
  {
   "cell_type": "code",
   "execution_count": null,
   "id": "bce5d67e",
   "metadata": {},
   "outputs": [],
   "source": [
    "import numpy as np\n",
    "from utils import evaluation as e\n",
    "import matplotlib.pyplot as plt\n",
    "\n",
    "N = np.load('results/N.npy')\n",
    "A = np.load('results/A.npy')\n",
    "L = np.load('results/L.npy')\n",
    "\n",
    "tN_p985 = 2.4219597474702477\n",
    "tN_maxN_anomaly = N[L == 1].max()\n",
    "d = 16"
   ]
  },
  {
   "cell_type": "code",
   "execution_count": null,
   "id": "e99134ec",
   "metadata": {},
   "outputs": [],
   "source": [
    "\n",
    "F1s_hard_d_1 = []\n",
    "for thres_log in thress_log:\n",
    "    IA = e.get_induced_anomaly_score(N, A, np.exp(thres_log), 1, gate_func='hard')\n",
    "    F1 = e.get_bestF1(L, IA)['F1']\n",
    "    F1s_hard_d_1.append(F1)\n",
    "F1s_hard_d_1 = np.array(F1s_hard_d_1)"
   ]
  },
  {
   "cell_type": "code",
   "execution_count": null,
   "id": "dd96fdc9",
   "metadata": {},
   "outputs": [],
   "source": [
    "thress_log = np.linspace(np.log(N.min()), np.log(N.max()), 100)\n",
    "F1s_soft = []\n",
    "FPRs_soft = []\n",
    "for thres_log in thress_log:\n",
    "    IA = e.get_induced_anomaly_score(N, A, np.exp(thres_log), d)\n",
    "    F1 = e.get_bestF1(L, IA)['F1']\n",
    "    FPR = e.get_bestF1(L, IA)['FPR']\n",
    "    F1s_soft.append(F1)\n",
    "    FPRs_soft.append(FPR)\n",
    "F1s_soft = np.array(F1s_soft)\n",
    "FPRs_soft = np.array(FPRs_soft)\n",
    "\n",
    "F1s_hard = []\n",
    "FPRs_hard = []\n",
    "for thres_log in thress_log:\n",
    "    IA = e.get_induced_anomaly_score(N, A, np.exp(thres_log), d, gate_func='hard')\n",
    "    F1 = e.get_bestF1(L, IA)['F1']\n",
    "    FPR = e.get_bestF1(L, IA)['FPR']\n",
    "    F1s_hard.append(F1)\n",
    "    FPRs_hard.append(FPR)\n",
    "F1s_hard = np.array(F1s_hard)\n",
    "FPRs_hard = np.array(FPRs_hard)\n",
    "\n",
    "F1_point = e.get_bestF1(L, A)['F1']\n",
    "FPR_point = e.get_bestF1(L, A)['FPR']"
   ]
  },
  {
   "cell_type": "code",
   "execution_count": null,
   "id": "2c9474f1",
   "metadata": {},
   "outputs": [],
   "source": [
    "fig, ax = plt.subplots(nrows=1, ncols=4, sharey=True, width_ratios=(0.58, 0.15, 0.15, 0.12), figsize=(14,7))\n",
    "ax[0].scatter(A[L == 0], N[L == 0], c='g', label='Normal')\n",
    "ax[0].scatter(A[L == 1], N[L == 1], c='r', label='Anomaly')\n",
    "ax[0].plot([A.min(), A.max()], [tN_p985, tN_p985], c='black', label='98.5% θNtrn')\n",
    "ax[1].plot(F1s_hard, np.exp(thress_log), label=f'hard')\n",
    "ax[1].plot(F1s_soft, np.exp(thress_log), label=f'soft')\n",
    "ax[2].plot(FPRs_hard, np.exp(thress_log), label=f'hard')\n",
    "ax[2].plot(FPRs_soft, np.exp(thress_log), label=f'soft')\n",
    "ax[3].plot(F1s_hard_d_1, np.exp(thress_log), label=f'hard')\n",
    "ax[1].plot([F1_point]*2, [N.min(), N.max()], '--', c='black', label='point')\n",
    "ax[2].plot([FPR_point]*2, [N.min(), N.max()], '--', c='black', label='point')\n",
    "ax[3].plot([F1_point]*2, [N.min(), N.max()], '--', c='black', label='point')\n",
    "ax[0].set_xlabel('Anomaly score (point-based)')\n",
    "ax[1].set_xlabel('best F1 (d=16)')\n",
    "ax[2].set_xlabel('FPR (d=16)')\n",
    "ax[3].set_xlabel('best F1 (d=1)')\n",
    "ax[0].set_ylabel('Nominality score')\n",
    "ax[0].set_xscale('log')\n",
    "ax[0].set_yscale('log')\n",
    "ax[0].legend(loc=2)\n",
    "ax[1].legend(loc=4)\n",
    "ax[2].legend(loc=4)\n",
    "ax[3].legend(loc=4)\n",
    "fig.tight_layout()"
   ]
  },
  {
   "cell_type": "code",
   "execution_count": null,
   "id": "002b23c8",
   "metadata": {},
   "outputs": [],
   "source": []
  },
  {
   "cell_type": "code",
   "execution_count": null,
   "id": "35f079c1",
   "metadata": {},
   "outputs": [],
   "source": [
    "fig, ax = plt.subplots(nrows=1, ncols=2, sharey=True, width_ratios=(0.7, 0.3), figsize=(14,7))\n",
    "ax[0].scatter(A[L == 0], N[L == 0], c='g', label='Normal')\n",
    "ax[0].scatter(A[L == 1], N[L == 1], c='r', label='Anomaly')\n",
    "ax[0].plot([A.min(), A.max()], [tN_maxN_anomaly, tN_maxN_anomaly], c='black', label='Max θN (anomaly)')\n",
    "# ax[1].plot(F1s_soft, np.exp(thress_log), label=f'soft')\n",
    "ax[1].plot(F1s_hard, np.exp(thress_log), label=f'hard')\n",
    "ax[1].plot([F1_point]*2, [N.min(), N.max()], '--', c='black', label='point')\n",
    "ax[0].set_xlabel('Anomaly score (point-based)')\n",
    "ax[1].set_xlabel('best F1 score')\n",
    "ax[0].set_ylabel('Nominality score')\n",
    "ax[0].set_xscale('log')\n",
    "ax[0].set_yscale('log')\n",
    "ax[0].legend(loc=2)\n",
    "ax[1].legend(loc=4)\n",
    "fig.tight_layout()"
   ]
  },
  {
   "cell_type": "code",
   "execution_count": null,
   "id": "9999a2fc",
   "metadata": {},
   "outputs": [],
   "source": [
    "F1_point, F1s_soft.max()"
   ]
  },
  {
   "cell_type": "code",
   "execution_count": null,
   "id": "47d0b760",
   "metadata": {},
   "outputs": [],
   "source": []
  }
 ],
 "metadata": {
  "kernelspec": {
   "display_name": "Python 3 (ipykernel)",
   "language": "python",
   "name": "python3"
  },
  "language_info": {
   "codemirror_mode": {
    "name": "ipython",
    "version": 3
   },
   "file_extension": ".py",
   "mimetype": "text/x-python",
   "name": "python",
   "nbconvert_exporter": "python",
   "pygments_lexer": "ipython3",
   "version": "3.7.16"
  },
  "varInspector": {
   "cols": {
    "lenName": 16,
    "lenType": 16,
    "lenVar": 40
   },
   "kernels_config": {
    "python": {
     "delete_cmd_postfix": "",
     "delete_cmd_prefix": "del ",
     "library": "var_list.py",
     "varRefreshCmd": "print(var_dic_list())"
    },
    "r": {
     "delete_cmd_postfix": ") ",
     "delete_cmd_prefix": "rm(",
     "library": "var_list.r",
     "varRefreshCmd": "cat(var_dic_list()) "
    }
   },
   "types_to_exclude": [
    "module",
    "function",
    "builtin_function_or_method",
    "instance",
    "_Feature"
   ],
   "window_display": false
  }
 },
 "nbformat": 4,
 "nbformat_minor": 5
}
