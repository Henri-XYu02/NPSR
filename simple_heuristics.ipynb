{
 "cells": [
  {
   "cell_type": "code",
   "execution_count": 1,
   "id": "105878c3",
   "metadata": {},
   "outputs": [],
   "source": [
    "import os\n",
    "import numpy as np\n",
    "import pandas as pd\n",
    "import pickle as pk\n",
    "import torch\n",
    "from sklearn.metrics import roc_auc_score\n",
    "\n",
    "dat_path = 'datasets/MSCRED/MSCRED.pk'"
   ]
  },
  {
   "cell_type": "code",
   "execution_count": 2,
   "id": "6d053f29",
   "metadata": {},
   "outputs": [
    {
     "data": {
      "text/plain": [
       "((1720, 30), (950, 30), (3070, 30), (650, 30), (1290, 30))"
      ]
     },
     "execution_count": 2,
     "metadata": {},
     "output_type": "execute_result"
    }
   ],
   "source": [
    "with open(dat_path, 'rb') as pkf:\n",
    "    dat = pk.load(pkf)\n",
    "dat['x_tst'][0].shape, dat['x_tst'][1].shape, dat['x_tst'][2].shape, dat['x_tst'][3].shape, dat['x_tst'][4].shape"
   ]
  },
  {
   "cell_type": "code",
   "execution_count": 3,
   "id": "4d3ad709",
   "metadata": {},
   "outputs": [
    {
     "data": {
      "text/plain": [
       "((7680, 30), (7680,))"
      ]
     },
     "execution_count": 3,
     "metadata": {},
     "output_type": "execute_result"
    }
   ],
   "source": [
    "x_tst = []\n",
    "lab_tst = []\n",
    "\n",
    "for tst in dat['x_tst']:\n",
    "    x_tst.append(tst)\n",
    "x_tst = np.concatenate(x_tst, axis=0)\n",
    "\n",
    "for lab in dat['lab_tst']:\n",
    "    lab_tst.append(lab)\n",
    "lab_tst = np.concatenate(lab_tst, axis=0)\n",
    "\n",
    "x_tst.shape, lab_tst.shape"
   ]
  },
  {
   "cell_type": "code",
   "execution_count": 34,
   "id": "8ee78ba4",
   "metadata": {},
   "outputs": [],
   "source": [
    "scores = (x_tst ** 2).sum(axis=1)"
   ]
  },
  {
   "cell_type": "code",
   "execution_count": 6,
   "id": "6072fa28",
   "metadata": {},
   "outputs": [
    {
     "data": {
      "text/plain": [
       "0.0234375"
      ]
     },
     "execution_count": 6,
     "metadata": {},
     "output_type": "execute_result"
    }
   ],
   "source": [
    "lab_tst.sum() / 7680\n"
   ]
  },
  {
   "cell_type": "code",
   "execution_count": null,
   "id": "d54dac62",
   "metadata": {},
   "outputs": [],
   "source": []
  },
  {
   "cell_type": "code",
   "execution_count": 46,
   "id": "4160b529",
   "metadata": {},
   "outputs": [
    {
     "name": "stdout",
     "output_type": "stream",
     "text": [
      "0.04607115433836703\n",
      "0.04607221431344636\n",
      "0.04614387556707713\n",
      "0.0667779632721202\n",
      "0.06751954513148543\n",
      "0.046651617757712566\n",
      "0.04717484008528784\n",
      "0.04608294930875576\n",
      "0.07145692735212386\n",
      "0.09259259259259259\n",
      "0.045842353240799695\n",
      "0.05455672659640421\n",
      "0.046130189646335217\n",
      "0.06685981724983286\n",
      "0.06504065040650406\n",
      "0.07116564417177915\n",
      "0.045988758303525806\n",
      "0.05500982318271119\n",
      "0.04568074518310578\n",
      "0.04623683534549191\n",
      "0.07153356197942186\n",
      "0.04741298212605833\n",
      "0.045931758530183726\n",
      "0.07453416149068323\n",
      "0.07380607814761214\n",
      "0.07417582417582418\n",
      "0.05514864282636795\n",
      "0.046293888166449935\n",
      "0.0461155508974191\n",
      "0.04659166115155526\n"
     ]
    }
   ],
   "source": [
    "for chn in range(x_tst.shape[1]):\n",
    "    scores = x_tst[:,chn]\n",
    "    res = get_bestF1(lab=lab_tst, scores=scores, PA=False)\n",
    "    print(res['F1'])"
   ]
  },
  {
   "cell_type": "code",
   "execution_count": null,
   "id": "0c48803b",
   "metadata": {},
   "outputs": [],
   "source": []
  },
  {
   "cell_type": "code",
   "execution_count": null,
   "id": "a2b1b1b6",
   "metadata": {},
   "outputs": [],
   "source": []
  },
  {
   "cell_type": "code",
   "execution_count": 23,
   "id": "5b3d84ce",
   "metadata": {},
   "outputs": [],
   "source": [
    "\n",
    "def get_bestF1(lab, scores, PA=False):\n",
    "    scores = scores.numpy() if torch.is_tensor(scores) else scores\n",
    "    lab = lab.numpy() if torch.is_tensor(lab) else lab\n",
    "    ones = lab.sum()\n",
    "    zeros = len(lab) - ones\n",
    "    \n",
    "    sortid = np.argsort(scores - lab * 1e-16)\n",
    "    new_lab = lab[sortid]\n",
    "    new_scores = scores[sortid]\n",
    "    \n",
    "    if PA:\n",
    "        lab_diff = np.insert(lab, len(lab), 0) - np.insert(lab, 0, 0)\n",
    "        a_st = np.arange(len(lab)+1)[lab_diff == 1]\n",
    "        a_ed = np.arange(len(lab)+1)[lab_diff == -1]\n",
    "\n",
    "        thres_a = np.array([np.max(scores[a_st[i]:a_ed[i]]) for i in range(len(a_st))])\n",
    "        sort_a_id = np.flip(np.argsort(thres_a)) # big to small\n",
    "        cum_a = np.cumsum(a_ed[sort_a_id] - a_st[sort_a_id])\n",
    "\n",
    "        last_thres = np.inf\n",
    "        TPs = np.zeros_like(new_lab)\n",
    "        for i, a_id in enumerate(sort_a_id):\n",
    "            TPs[(thres_a[a_id] <= new_scores) & (new_scores < last_thres)] = cum_a[i-1] if i > 0 else 0\n",
    "            last_thres = thres_a[a_id]\n",
    "        TPs[new_scores < last_thres] = cum_a[-1]\n",
    "    else:\n",
    "        TPs = np.cumsum(-new_lab) + ones\n",
    "        \n",
    "    FPs = np.cumsum(new_lab-1) + zeros\n",
    "    FNs = ones - TPs\n",
    "    TNs = zeros - FPs\n",
    "    \n",
    "    N = len(lab) - np.flip(TPs > 0).argmax()\n",
    "    TPRs = TPs[:N] / ones\n",
    "    PPVs = TPs[:N] / (TPs + FPs)[:N]\n",
    "    FPRs = FPs[:N] / zeros\n",
    "    F1s  = 2 * TPRs * PPVs / (TPRs + PPVs)\n",
    "    maxid = np.argmax(F1s)\n",
    "    \n",
    "    FPRs = np.insert(FPRs, -1, 0)\n",
    "    TPRs = np.insert(TPRs, -1, 0)\n",
    "    if PA:\n",
    "        AUC = ((TPRs[:-1] + TPRs[1:]) * (FPRs[:-1] - FPRs[1:])).sum() * 0.5\n",
    "    else:\n",
    "        AUC = roc_auc_score(lab, scores)\n",
    "   \n",
    "    anomaly_ratio = ones / len(lab) \n",
    "    FPR_bestF1_TPR1 = anomaly_ratio / (1-anomaly_ratio) * (2 / F1s[maxid] - 2)\n",
    "    TPR_bestF1_FPR0 = F1s[maxid] / (2 - F1s[maxid])\n",
    "    return {'AUC': AUC, 'F1': F1s[maxid], 'thres': new_scores[maxid], 'TPR': TPRs[maxid], 'PPV': PPVs[maxid], \n",
    "            'FPR': FPRs[maxid], 'maxid': maxid, 'FPRs': FPRs, 'TPRs': TPRs, \n",
    "            'FPR_bestF1_TPR1': FPR_bestF1_TPR1, 'TPR_bestF1_FPR0': TPR_bestF1_FPR0}   "
   ]
  },
  {
   "cell_type": "code",
   "execution_count": null,
   "id": "983f6843",
   "metadata": {},
   "outputs": [],
   "source": []
  },
  {
   "cell_type": "code",
   "execution_count": null,
   "id": "34a56782",
   "metadata": {},
   "outputs": [],
   "source": []
  },
  {
   "cell_type": "code",
   "execution_count": null,
   "id": "a6238a1a",
   "metadata": {},
   "outputs": [],
   "source": []
  },
  {
   "cell_type": "code",
   "execution_count": null,
   "id": "034b70b0",
   "metadata": {},
   "outputs": [],
   "source": []
  },
  {
   "cell_type": "code",
   "execution_count": null,
   "id": "69ab5575",
   "metadata": {},
   "outputs": [],
   "source": []
  },
  {
   "cell_type": "code",
   "execution_count": null,
   "id": "0c63cebf",
   "metadata": {},
   "outputs": [],
   "source": []
  }
 ],
 "metadata": {
  "kernelspec": {
   "display_name": "Python 3 (ipykernel)",
   "language": "python",
   "name": "python3"
  },
  "language_info": {
   "codemirror_mode": {
    "name": "ipython",
    "version": 3
   },
   "file_extension": ".py",
   "mimetype": "text/x-python",
   "name": "python",
   "nbconvert_exporter": "python",
   "pygments_lexer": "ipython3",
   "version": "3.11.4"
  },
  "varInspector": {
   "cols": {
    "lenName": 16,
    "lenType": 16,
    "lenVar": 40
   },
   "kernels_config": {
    "python": {
     "delete_cmd_postfix": "",
     "delete_cmd_prefix": "del ",
     "library": "var_list.py",
     "varRefreshCmd": "print(var_dic_list())"
    },
    "r": {
     "delete_cmd_postfix": ") ",
     "delete_cmd_prefix": "rm(",
     "library": "var_list.r",
     "varRefreshCmd": "cat(var_dic_list()) "
    }
   },
   "types_to_exclude": [
    "module",
    "function",
    "builtin_function_or_method",
    "instance",
    "_Feature"
   ],
   "window_display": false
  }
 },
 "nbformat": 4,
 "nbformat_minor": 5
}
